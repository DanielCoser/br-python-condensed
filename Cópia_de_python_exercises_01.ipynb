{
  "nbformat": 4,
  "nbformat_minor": 0,
  "metadata": {
    "colab": {
      "name": "Cópia de python_exercises_01.ipynb",
      "provenance": [],
      "include_colab_link": true
    },
    "kernelspec": {
      "name": "python3",
      "display_name": "Python 3"
    }
  },
  "cells": [
    {
      "cell_type": "markdown",
      "metadata": {
        "id": "view-in-github",
        "colab_type": "text"
      },
      "source": [
        "<a href=\"https://colab.research.google.com/github/DanielCoser/br-python-condensed/blob/main/C%C3%B3pia_de_python_exercises_01.ipynb\" target=\"_parent\"><img src=\"https://colab.research.google.com/assets/colab-badge.svg\" alt=\"Open In Colab\"/></a>"
      ]
    },
    {
      "cell_type": "markdown",
      "metadata": {
        "id": "8YqaSZgXYJ5g"
      },
      "source": [
        "![](https://i.imgur.com/YX6UATs.png)\n"
      ]
    },
    {
      "cell_type": "markdown",
      "metadata": {
        "id": "hhUVzDipaGb9"
      },
      "source": [
        "### **Exercícios de Python - 1** \n",
        "\n",
        "\n",
        "\n"
      ]
    },
    {
      "cell_type": "markdown",
      "metadata": {
        "id": "qMGp-h8OaGqr"
      },
      "source": [
        "1 - Faça um programa, com uma função que necessite de três argumentos, e que forneça a soma desses três argumentos."
      ]
    },
    {
      "cell_type": "code",
      "metadata": {
        "id": "kTg-D89NdCld"
      },
      "source": [
        "def soma():\n",
        "  number1=input(\"Entre com o primeiro número (para números quebrados usar Ponto):\")\n",
        "  number2=input(\"Entre com o segundo número (para números quebrados usar Ponto):\")\n",
        "  number3=input(\"Entre com o terceiro número (para números quebrados usar Ponto):\")\n",
        "  sum=float(number1)+float(number2)+float(number3)\n",
        "  return f\"O valor da soma é {sum}\""
      ],
      "execution_count": 25,
      "outputs": []
    },
    {
      "cell_type": "code",
      "metadata": {
        "id": "bni722-r-fZW",
        "outputId": "2f5bdcbf-cffd-4233-eb87-2266dd03a8aa",
        "colab": {
          "base_uri": "https://localhost:8080/",
          "height": 86
        }
      },
      "source": [
        "soma()"
      ],
      "execution_count": 26,
      "outputs": [
        {
          "output_type": "stream",
          "text": [
            "Entre com o primeiro número (para números quebrados usar Ponto):100\n",
            "Entre com o segundo número (para números quebrados usar Ponto):200\n",
            "Entre com o terceiro número (para números quebrados usar Ponto):300\n"
          ],
          "name": "stdout"
        },
        {
          "output_type": "execute_result",
          "data": {
            "application/vnd.google.colaboratory.intrinsic+json": {
              "type": "string"
            },
            "text/plain": [
              "'O valor da soma é 600.0'"
            ]
          },
          "metadata": {
            "tags": []
          },
          "execution_count": 26
        }
      ]
    },
    {
      "cell_type": "markdown",
      "metadata": {
        "id": "KdLXZftIaG60"
      },
      "source": [
        "2 - Faça um Programa que peça a temperatura em graus Celsius, transforme e mostre em graus Fahrenheit. \\\n",
        "*Dica: procure a fórmula para essa conversão na internet*"
      ]
    },
    {
      "cell_type": "code",
      "metadata": {
        "id": "MNINJ32eU45M"
      },
      "source": [
        "def converter():\n",
        "  #converter graus celsius em fahrenheit\n",
        "  celsius=input(\"Entre com o a temperatura em graus celsius (para números quebrados usar Ponto):\")\n",
        "  fahrenheit=(float(celsius)*1.8)+32\n",
        "  return f\"O valor em graus Fahrenheit é {fahrenheit}°F\"\n"
      ],
      "execution_count": 34,
      "outputs": []
    },
    {
      "cell_type": "code",
      "metadata": {
        "id": "dBmk3x-2JuBh"
      },
      "source": [
        "converter()"
      ],
      "execution_count": null,
      "outputs": []
    },
    {
      "cell_type": "markdown",
      "metadata": {
        "id": "4OETBVgmaGzX"
      },
      "source": [
        "3 - Faça um Programa que peça um número inteiro e determine se ele é par ou impar. Dica: utilize o operador módulo (resto da divisão)."
      ]
    },
    {
      "cell_type": "code",
      "metadata": {
        "id": "WbzCimFZVSr1"
      },
      "source": [
        "def parouimpar():\n",
        "  number=input(\"Entre com um número inteiro:\")\n",
        "  if (int(number)% 2) == 0:\n",
        "    print(\"É Par\")\n",
        "  else:  \n",
        "    print(\"É impar\")"
      ],
      "execution_count": 66,
      "outputs": []
    },
    {
      "cell_type": "code",
      "metadata": {
        "id": "BLwX3jT2JrLA"
      },
      "source": [
        "parouimpar()"
      ],
      "execution_count": null,
      "outputs": []
    },
    {
      "cell_type": "markdown",
      "metadata": {
        "id": "7zPJ8sgPaGw0"
      },
      "source": [
        "4 - Faça um programa que peça o tamanho de um arquivo para download (em MB) e a velocidade de um link de Internet (em Mbps), calcule e informe o tempo aproximado de download do arquivo usando este link (em minutos)."
      ]
    },
    {
      "cell_type": "code",
      "metadata": {
        "id": "l4qtSxU7XquB"
      },
      "source": [
        "def tempodedownload():\n",
        "  tamanho=input(\"Entre com o tamanho do arquivo em MB (para números quebrados usar Ponto):\")\n",
        "  velocidade=input(\"Entre com a velocidade do link Mbps (para números quebrados usar Ponto):\")\n",
        "  minutos=(float(tamanho)/(float(velocidade)/8))/60\n",
        "  minutos=round(minutos,2)\n",
        "  return f\"O tempo em minutos para o download é de {minutos} min\""
      ],
      "execution_count": 121,
      "outputs": []
    },
    {
      "cell_type": "code",
      "metadata": {
        "id": "vybQEYjpJiHQ",
        "outputId": "c6b17465-9ca4-4800-a501-338abb91d2d3",
        "colab": {
          "base_uri": "https://localhost:8080/",
          "height": 69
        }
      },
      "source": [
        "tempodedownload()"
      ],
      "execution_count": 124,
      "outputs": [
        {
          "output_type": "stream",
          "text": [
            "Entre com o tamanho do arquivo em MB (para números quebrados usar Ponto):500\n",
            "Entre com a velocidade do link Mbps (para números quebrados usar Ponto):200\n"
          ],
          "name": "stdout"
        },
        {
          "output_type": "execute_result",
          "data": {
            "application/vnd.google.colaboratory.intrinsic+json": {
              "type": "string"
            },
            "text/plain": [
              "'O tempo em minutos para o download é de 0.33 min'"
            ]
          },
          "metadata": {
            "tags": []
          },
          "execution_count": 124
        }
      ]
    },
    {
      "cell_type": "markdown",
      "metadata": {
        "id": "0tkhm6EUaG1u"
      },
      "source": [
        "5 - Faça um programa para a leitura de duas notas parciais de um aluno. O programa deve calcular a média alcançada por aluno e apresentar:\n",
        "- A mensagem \"Aprovado\", se a média alcançada for maior ou igual a sete;\n",
        "- A mensagem \"Reprovado\", se a média for menor do que sete;\n",
        "- A mensagem \"Aprovado com Distinção\", se a média for igual a dez."
      ]
    },
    {
      "cell_type": "code",
      "metadata": {
        "id": "990mQ6UhdwKl"
      },
      "source": [
        "def parcial():\n",
        "  nota1=input(\"Entre com o a primeira nota (para números quebrados usar Ponto):\")\n",
        "  nota2=input(\"Entre com o a segunda nota (para números quebrados usar Ponto):\")\n",
        "  media= (float(nota1)+float(nota2))/2\n",
        "  if media == 10:\n",
        "    return f'Aprovado com distinção, média {media}'\n",
        "  if media >= 7:\n",
        "    return f'Aprovado com média {media}'\n",
        "  if media <7:\n",
        "    return f'Reprovado com média {media}'"
      ],
      "execution_count": 154,
      "outputs": []
    },
    {
      "cell_type": "code",
      "metadata": {
        "id": "RSYiYObcKL_8",
        "outputId": "fb17d682-3080-4323-a659-b080e742a1f6",
        "colab": {
          "base_uri": "https://localhost:8080/",
          "height": 69
        }
      },
      "source": [
        "parcial()"
      ],
      "execution_count": 155,
      "outputs": [
        {
          "output_type": "stream",
          "text": [
            "Entre com o a primeira nota (para números quebrados usar Ponto):2\n",
            "Entre com o a segunda nota (para números quebrados usar Ponto):2\n"
          ],
          "name": "stdout"
        },
        {
          "output_type": "execute_result",
          "data": {
            "application/vnd.google.colaboratory.intrinsic+json": {
              "type": "string"
            },
            "text/plain": [
              "'Reprovado com média 2.0'"
            ]
          },
          "metadata": {
            "tags": []
          },
          "execution_count": 155
        }
      ]
    },
    {
      "cell_type": "markdown",
      "metadata": {
        "id": "Lm1tOKThnU42"
      },
      "source": [
        "Exercícios adaptados de Python Brasil"
      ]
    }
  ]
}