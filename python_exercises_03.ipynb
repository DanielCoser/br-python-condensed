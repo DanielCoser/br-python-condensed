{
  "nbformat": 4,
  "nbformat_minor": 0,
  "metadata": {
    "colab": {
      "name": "python_exercises_03.ipynb",
      "provenance": [],
      "collapsed_sections": [],
      "include_colab_link": true
    },
    "kernelspec": {
      "name": "python3",
      "display_name": "Python 3"
    }
  },
  "cells": [
    {
      "cell_type": "markdown",
      "metadata": {
        "id": "view-in-github",
        "colab_type": "text"
      },
      "source": [
        "<a href=\"https://colab.research.google.com/github/DanielCoser/br-python-condensed/blob/main/python_exercises_03.ipynb\" target=\"_parent\"><img src=\"https://colab.research.google.com/assets/colab-badge.svg\" alt=\"Open In Colab\"/></a>"
      ]
    },
    {
      "cell_type": "markdown",
      "metadata": {
        "id": "8YqaSZgXYJ5g"
      },
      "source": [
        "![](https://i.imgur.com/YX6UATs.png)\n"
      ]
    },
    {
      "cell_type": "markdown",
      "metadata": {
        "id": "hhUVzDipaGb9"
      },
      "source": [
        "### **Exercícios de Python - 3** \n",
        "\n",
        "\n",
        "\n"
      ]
    },
    {
      "cell_type": "markdown",
      "metadata": {
        "id": "7O6AZt8-aGlr"
      },
      "source": [
        "1 - Classe Bola:\\\n",
        "Crie uma classe que modele uma bola:\n",
        "\n",
        "Atributos: Cor, material\\\n",
        "Métodos: trocaCor "
      ]
    },
    {
      "cell_type": "code",
      "metadata": {
        "id": "ibipMzmZcfIF"
      },
      "source": [
        "class bola():\n",
        "  def __init__(self,cor,material):\n",
        "    self.cor = cor\n",
        "    self.material = material\n",
        "\n",
        "  def TrocaCor(self):\n",
        "    self.cor = input('Insira nova cor')"
      ],
      "execution_count": null,
      "outputs": []
    },
    {
      "cell_type": "code",
      "metadata": {
        "id": "l1G-Qqld9DRd"
      },
      "source": [
        "bola_daniel=bola('Verde','Borracha')"
      ],
      "execution_count": null,
      "outputs": []
    },
    {
      "cell_type": "code",
      "metadata": {
        "id": "NZQN3apy9X4R",
        "outputId": "65f28098-98fa-4b41-b810-a87231139e06",
        "colab": {
          "base_uri": "https://localhost:8080/",
          "height": 34
        }
      },
      "source": [
        "bola_daniel.TrocaCor()"
      ],
      "execution_count": null,
      "outputs": [
        {
          "output_type": "stream",
          "text": [
            "Insira nova corVermelho\n"
          ],
          "name": "stdout"
        }
      ]
    },
    {
      "cell_type": "code",
      "metadata": {
        "id": "berIZUAM_Q8_",
        "outputId": "f45a33f2-a30b-43cd-eb08-7758313d2370",
        "colab": {
          "base_uri": "https://localhost:8080/",
          "height": 35
        }
      },
      "source": [
        "bola_daniel.cor"
      ],
      "execution_count": null,
      "outputs": [
        {
          "output_type": "execute_result",
          "data": {
            "application/vnd.google.colaboratory.intrinsic+json": {
              "type": "string"
            },
            "text/plain": [
              "'Vermelho'"
            ]
          },
          "metadata": {
            "tags": []
          },
          "execution_count": 36
        }
      ]
    },
    {
      "cell_type": "markdown",
      "metadata": {
        "id": "c62cM2VlKFqN"
      },
      "source": [
        "2 - Classe Quadrado: Crie uma classe que modele um quadrado:\n",
        "\n",
        "Atributos: Tamanho do lado\n",
        "Métodos: Mudar valor do Lado e calcular Área;"
      ]
    },
    {
      "cell_type": "code",
      "metadata": {
        "id": "M_5mNjNbKFMI"
      },
      "source": [
        "class quadrado():\n",
        "  def __init__(self,lado):\n",
        "    self.lado = lado\n",
        "\n",
        "  def MudaLado(self):\n",
        "    self.lado = input(\"insira novo lado\")\n",
        "  def CalcArea(self):\n",
        "    area = self.lado**2\n",
        "    print(f'A área do quadrado é {area}')"
      ],
      "execution_count": null,
      "outputs": []
    },
    {
      "cell_type": "code",
      "metadata": {
        "id": "J7f0qix8ATxg"
      },
      "source": [
        "quadrado2 = quadrado(2)\n",
        "quadrado4 = quadrado(4)"
      ],
      "execution_count": null,
      "outputs": []
    },
    {
      "cell_type": "code",
      "metadata": {
        "id": "L-IuPVXWAdly",
        "outputId": "dc052ef8-81c9-4d8c-c327-2751c0d6e523",
        "colab": {
          "base_uri": "https://localhost:8080/",
          "height": 34
        }
      },
      "source": [
        "quadrado2.MudaLado()"
      ],
      "execution_count": null,
      "outputs": [
        {
          "output_type": "stream",
          "text": [
            "insira novo lado17\n"
          ],
          "name": "stdout"
        }
      ]
    },
    {
      "cell_type": "code",
      "metadata": {
        "id": "QnpoCA5EA13v",
        "outputId": "66d7616d-1adc-43d7-ce20-61d86f3adcda",
        "colab": {
          "base_uri": "https://localhost:8080/",
          "height": 34
        }
      },
      "source": [
        "quadrado4.CalcArea()"
      ],
      "execution_count": null,
      "outputs": [
        {
          "output_type": "stream",
          "text": [
            "A área do quadrado é 16\n"
          ],
          "name": "stdout"
        }
      ]
    },
    {
      "cell_type": "markdown",
      "metadata": {
        "id": "qMGp-h8OaGqr"
      },
      "source": [
        "3 - Classe funcionário \\\n",
        "Crie uma classe que crie funcionários de uma empresa.\\\n",
        "Atributos: Nome, Função, Salário. \\\n",
        "Métodos: aumento anual. O aumento anual deve ser de 10%.\\\n",
        "Crie dois objetos e dê um aument de 10% a um deles e um aumento de 20% ao outro."
      ]
    },
    {
      "cell_type": "code",
      "metadata": {
        "id": "3lzz274Thi0Y"
      },
      "source": [
        "class funcionario():\n",
        "  def __init__(self,nome,função,salario,porcentagem):\n",
        "    self.nome = nome\n",
        "    self.função = função\n",
        "    self.salario = salario\n",
        "\n",
        "\n",
        "  def aumento(self):\n",
        "    self.salario = self.salario+self.salario*self.porcentagem"
      ],
      "execution_count": 161,
      "outputs": []
    },
    {
      "cell_type": "code",
      "metadata": {
        "id": "BBqsFJrtBrDy"
      },
      "source": [
        "funcionario_Daniel = funcionario(\"Daniel\",\"Engenheiro\",4500,0.1)\n",
        "funcionario_Ana =funcionario(\"Ana\",\"Analista\",3000,0.2)"
      ],
      "execution_count": 165,
      "outputs": []
    },
    {
      "cell_type": "code",
      "metadata": {
        "id": "0NojWLqoB3Ba",
        "outputId": "a138205e-6f77-4284-f9ac-fbd97aaa9d44",
        "colab": {
          "base_uri": "https://localhost:8080/",
          "height": 34
        }
      },
      "source": [
        "funcionario_Daniel.porcentagem"
      ],
      "execution_count": 166,
      "outputs": [
        {
          "output_type": "execute_result",
          "data": {
            "text/plain": [
              "0.1"
            ]
          },
          "metadata": {
            "tags": []
          },
          "execution_count": 166
        }
      ]
    },
    {
      "cell_type": "code",
      "metadata": {
        "id": "qiciCog5B2Gm"
      },
      "source": [
        "funcionario_Daniel.aumento()"
      ],
      "execution_count": 167,
      "outputs": []
    },
    {
      "cell_type": "code",
      "metadata": {
        "id": "1J7-7lf8CtBc",
        "outputId": "3c06a815-25b0-4e84-9087-8d4fe04dd20d",
        "colab": {
          "base_uri": "https://localhost:8080/",
          "height": 34
        }
      },
      "source": [
        "funcionario_Daniel.salario"
      ],
      "execution_count": 168,
      "outputs": [
        {
          "output_type": "execute_result",
          "data": {
            "text/plain": [
              "4950.0"
            ]
          },
          "metadata": {
            "tags": []
          },
          "execution_count": 168
        }
      ]
    },
    {
      "cell_type": "code",
      "metadata": {
        "id": "vVQ-9i9OJkTj"
      },
      "source": [
        "funcionario_Ana.porcentagem=0.2"
      ],
      "execution_count": 169,
      "outputs": []
    },
    {
      "cell_type": "code",
      "metadata": {
        "id": "FPQIgkAHJrQz"
      },
      "source": [
        "funcionario_Ana.aumento()"
      ],
      "execution_count": 170,
      "outputs": []
    },
    {
      "cell_type": "code",
      "metadata": {
        "id": "GO575FecJuEg",
        "outputId": "1f88b640-556d-4a0a-f942-417bc1c960b4",
        "colab": {
          "base_uri": "https://localhost:8080/",
          "height": 34
        }
      },
      "source": [
        "funcionario_Ana.salario"
      ],
      "execution_count": 171,
      "outputs": [
        {
          "output_type": "execute_result",
          "data": {
            "text/plain": [
              "3300.0"
            ]
          },
          "metadata": {
            "tags": []
          },
          "execution_count": 171
        }
      ]
    },
    {
      "cell_type": "markdown",
      "metadata": {
        "id": "lCMWrvt3P4_x"
      },
      "source": [
        "04 - Utilizando a biblioteca Numpy, obtenha as médias, medianas e desvios padrão de altura, peso e IMC dos membros do dicionário a seguir:\\\n",
        "Trasforme os dicionários em um numpy array e utilize os métodos próprios dessa classe."
      ]
    },
    {
      "cell_type": "code",
      "metadata": {
        "id": "l4qtSxU7XquB"
      },
      "source": [
        "clientes = {'Charlotte': {'altura': 1.56, 'imc': 21, 'peso': 52, 'sexo': 'F'},\n",
        " 'Claudia': {'altura': 1.56, 'imc': 25, 'peso': 62, 'sexo': 'F'},\n",
        " 'Jonas': {'altura': 1.56, 'imc': 21, 'peso': 52, 'sexo': 'M'},\n",
        " 'Martha': {'altura': 1.98, 'imc': 19, 'peso': 76, 'sexo': 'F'},\n",
        " 'Mikkel': {'altura': 1.56, 'imc': 28, 'peso': 67, 'sexo': 'M'},\n",
        " 'Ulrich': {'altura': 1.92, 'imc': 22, 'peso': 80, 'sexo': 'M'}}"
      ],
      "execution_count": 209,
      "outputs": []
    },
    {
      "cell_type": "code",
      "metadata": {
        "id": "nv9z8He8hOLf"
      },
      "source": [
        "import numpy as np\n"
      ],
      "execution_count": 173,
      "outputs": []
    },
    {
      "cell_type": "code",
      "metadata": {
        "id": "awTxTAxdFcL-",
        "outputId": "23af6c24-8848-458f-dc06-7f6698e99ede",
        "colab": {
          "base_uri": "https://localhost:8080/",
          "height": 255
        }
      },
      "source": [
        "import numpy as np\n",
        "from ast import literal_eval\n",
        "udict = \"\"\"{'Charlotte': {'altura': 1.56, 'imc': 21, 'peso': 52, 'sexo': 'F'},\n",
        " 'Claudia': {'altura': 1.56, 'imc': 25, 'peso': 62, 'sexo': 'F'},\n",
        " 'Jonas': {'altura': 1.56, 'imc': 21, 'peso': 52, 'sexo': 'M'},\n",
        " 'Martha': {'altura': 1.98, 'imc': 19, 'peso': 76, 'sexo': 'F'},\n",
        " 'Mikkel': {'altura': 1.56, 'imc': 28, 'peso': 67, 'sexo': 'M'},\n",
        " 'Ulrich': {'altura': 1.92, 'imc': 22, 'peso': 80, 'sexo': 'M'}}\"\"\"\n",
        "t = literal_eval(udict)\n",
        "print(\"\\nOriginal dictionary:\")\n",
        "print(t)\n",
        "print(\"Type: \",type(t))\n",
        "result_nparra = np.array([[v[j] for j in ['altura', 'imc', 'peso', 'sexo']] for k, v in t.items()])\n",
        "print(\"\\nndarray:\")\n",
        "print(result_nparra)\n",
        "print(\"Type: \",type(result_nparra))"
      ],
      "execution_count": 185,
      "outputs": [
        {
          "output_type": "stream",
          "text": [
            "\n",
            "Original dictionary:\n",
            "{'Charlotte': {'altura': 1.56, 'imc': 21, 'peso': 52, 'sexo': 'F'}, 'Claudia': {'altura': 1.56, 'imc': 25, 'peso': 62, 'sexo': 'F'}, 'Jonas': {'altura': 1.56, 'imc': 21, 'peso': 52, 'sexo': 'M'}, 'Martha': {'altura': 1.98, 'imc': 19, 'peso': 76, 'sexo': 'F'}, 'Mikkel': {'altura': 1.56, 'imc': 28, 'peso': 67, 'sexo': 'M'}, 'Ulrich': {'altura': 1.92, 'imc': 22, 'peso': 80, 'sexo': 'M'}}\n",
            "Type:  <class 'dict'>\n",
            "\n",
            "ndarray:\n",
            "[['1.56' '21' '52' 'F']\n",
            " ['1.56' '25' '62' 'F']\n",
            " ['1.56' '21' '52' 'M']\n",
            " ['1.98' '19' '76' 'F']\n",
            " ['1.56' '28' '67' 'M']\n",
            " ['1.92' '22' '80' 'M']]\n",
            "Type:  <class 'numpy.ndarray'>\n"
          ],
          "name": "stdout"
        }
      ]
    },
    {
      "cell_type": "code",
      "metadata": {
        "id": "PchVfKEGGvMG"
      },
      "source": [
        ""
      ],
      "execution_count": null,
      "outputs": []
    },
    {
      "cell_type": "markdown",
      "metadata": {
        "id": "1a_TuuI6QDWa"
      },
      "source": [
        "05 - Realize o mesmo procedimento com a biblioteca Statistics\n"
      ]
    },
    {
      "cell_type": "code",
      "metadata": {
        "id": "y64mwLBVhN1L",
        "outputId": "958646f6-dbbb-4414-fdde-51c2fbf4d370",
        "colab": {
          "base_uri": "https://localhost:8080/",
          "height": 229
        }
      },
      "source": [
        "from statistics import mean\n",
        "listaimc = []\n",
        "for i in clientes.key():\n",
        "  clientes[i]['imc'] = imcs\n",
        "listaimc.append(imcs)"
      ],
      "execution_count": 208,
      "outputs": [
        {
          "output_type": "error",
          "ename": "AttributeError",
          "evalue": "ignored",
          "traceback": [
            "\u001b[0;31m---------------------------------------------------------------------------\u001b[0m",
            "\u001b[0;31mAttributeError\u001b[0m                            Traceback (most recent call last)",
            "\u001b[0;32m<ipython-input-208-48600699c52a>\u001b[0m in \u001b[0;36m<module>\u001b[0;34m()\u001b[0m\n\u001b[1;32m      1\u001b[0m \u001b[0;32mfrom\u001b[0m \u001b[0mstatistics\u001b[0m \u001b[0;32mimport\u001b[0m \u001b[0mmean\u001b[0m\u001b[0;34m\u001b[0m\u001b[0;34m\u001b[0m\u001b[0m\n\u001b[1;32m      2\u001b[0m \u001b[0mlistaimc\u001b[0m \u001b[0;34m=\u001b[0m \u001b[0;34m[\u001b[0m\u001b[0;34m]\u001b[0m\u001b[0;34m\u001b[0m\u001b[0;34m\u001b[0m\u001b[0m\n\u001b[0;32m----> 3\u001b[0;31m \u001b[0;32mfor\u001b[0m \u001b[0mi\u001b[0m \u001b[0;32min\u001b[0m \u001b[0mclientes\u001b[0m\u001b[0;34m.\u001b[0m\u001b[0mkey\u001b[0m\u001b[0;34m(\u001b[0m\u001b[0;34m)\u001b[0m\u001b[0;34m:\u001b[0m\u001b[0;34m\u001b[0m\u001b[0;34m\u001b[0m\u001b[0m\n\u001b[0m\u001b[1;32m      4\u001b[0m   \u001b[0mclientes\u001b[0m\u001b[0;34m[\u001b[0m\u001b[0mi\u001b[0m\u001b[0;34m]\u001b[0m\u001b[0;34m[\u001b[0m\u001b[0;34m'imc'\u001b[0m\u001b[0;34m]\u001b[0m \u001b[0;34m=\u001b[0m \u001b[0mimcs\u001b[0m\u001b[0;34m\u001b[0m\u001b[0;34m\u001b[0m\u001b[0m\n\u001b[1;32m      5\u001b[0m \u001b[0mlistaimc\u001b[0m\u001b[0;34m.\u001b[0m\u001b[0mappend\u001b[0m\u001b[0;34m(\u001b[0m\u001b[0mimcs\u001b[0m\u001b[0;34m)\u001b[0m\u001b[0;34m\u001b[0m\u001b[0;34m\u001b[0m\u001b[0m\n",
            "\u001b[0;31mAttributeError\u001b[0m: 'dict' object has no attribute 'key'"
          ]
        }
      ]
    },
    {
      "cell_type": "markdown",
      "metadata": {
        "id": "Lm1tOKThnU42"
      },
      "source": [
        "Exercícios adaptados de Python Brasil"
      ]
    }
  ]
}