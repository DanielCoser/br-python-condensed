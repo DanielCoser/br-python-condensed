{
  "nbformat": 4,
  "nbformat_minor": 0,
  "metadata": {
    "colab": {
      "name": "Cópia de Copy of python_exercises_02.ipynb",
      "provenance": [],
      "collapsed_sections": [],
      "include_colab_link": true
    },
    "kernelspec": {
      "name": "python3",
      "display_name": "Python 3"
    }
  },
  "cells": [
    {
      "cell_type": "markdown",
      "metadata": {
        "id": "view-in-github",
        "colab_type": "text"
      },
      "source": [
        "<a href=\"https://colab.research.google.com/github/DanielCoser/br-python-condensed/blob/main/C%C3%B3pia_de_Copy_of_python_exercises_02.ipynb\" target=\"_parent\"><img src=\"https://colab.research.google.com/assets/colab-badge.svg\" alt=\"Open In Colab\"/></a>"
      ]
    },
    {
      "cell_type": "markdown",
      "metadata": {
        "id": "8YqaSZgXYJ5g"
      },
      "source": [
        "![](https://i.imgur.com/YX6UATs.png)\n"
      ]
    },
    {
      "cell_type": "markdown",
      "metadata": {
        "id": "c62cM2VlKFqN"
      },
      "source": [
        "1 - Faça um programa que leia um nome de usuário e a sua senha e não aceite a senha igual ao nome do usuário, mostrando uma mensagem de erro."
      ]
    },
    {
      "cell_type": "code",
      "metadata": {
        "id": "A3ajzaOSq69B",
        "outputId": "fc9561a0-4db4-4802-d14b-2ead6bdbfecd",
        "colab": {
          "base_uri": "https://localhost:8080/",
          "height": 84
        }
      },
      "source": [
        "print('Cadstro:')\n",
        "usuario = input('Digite o nome de usuário:')\n",
        "senha = input('Digite sua senha:')\n",
        "if usuario == senha:\n",
        "  print('Erro nome do usuário não pode ser igual a senha, comece denovo')\n",
        "else:\n",
        "  print('Cadastro feito com sucesso')"
      ],
      "execution_count": null,
      "outputs": [
        {
          "output_type": "stream",
          "text": [
            "Cadstro:\n",
            "Digite o nome de usuário:Daniel\n",
            "Digite sua senha:1234\n",
            "Cadastro feito com sucesso\n"
          ],
          "name": "stdout"
        }
      ]
    },
    {
      "cell_type": "markdown",
      "metadata": {
        "id": "qMGp-h8OaGqr"
      },
      "source": [
        "2 - Utilizando listas faça um programa que faça 5 perguntas para uma pessoa sobre um crime. As perguntas são:\n",
        "- \"Telefonou para a vítima?\"\n",
        "- \"Esteve no local do crime?\"\n",
        "- \"Mora perto da vítima?\"\n",
        "- \"Devia para a vítima?\"\n",
        "- \"Já trabalhou com a vítima?\" \\\n",
        "O programa deve no final emitir uma classificação sobre a participação da pessoa no crime. Se a pessoa responder positivamente a 2 questões ela deve ser classificada como \"Suspeita\", entre 3 e 4 como \"Cúmplice\" e 5 como \"Assassino\". Caso contrário, ele será classificado como \"Inocente\"."
      ]
    },
    {
      "cell_type": "code",
      "metadata": {
        "id": "51x9LcKn1w5U"
      },
      "source": [
        ""
      ],
      "execution_count": null,
      "outputs": []
    },
    {
      "cell_type": "code",
      "metadata": {
        "id": "kTg-D89NdCld",
        "outputId": "df03e31c-4010-465e-c3bf-6c64b1aa682a",
        "colab": {
          "base_uri": "https://localhost:8080/",
          "height": 118
        }
      },
      "source": [
        "res = []\n",
        "res.append(input(\"Telefonou para a vítima? 1/Sim ou 0/Não: \"))\n",
        "res.append(input(\"Esteve no local do crime? 1/Sim ou 0/Não: \"))\n",
        "res.append(input(\"Mora perto da vítima? 1/Sim ou 0/Não: \"))\n",
        "res.append(input(\"Devia para a vítima? 1/Sim ou 0/Não: \"))\n",
        "res.append(input(\"Já trabalhou com a vítima? 1/Sim ou 0/Não: \"))\n",
        "soma_respostas = 0\n",
        "for i in res:\n",
        "  soma_respostas += int(i)\n",
        "if (soma_respostas < 2):\n",
        " print(\"Inocente\")\n",
        "elif (soma_respostas == 2):\n",
        " print(\"Suspeita\")\n",
        "elif (3 <= soma_respostas <= 4):\n",
        " print(\"Cúmplice\")\n",
        "elif (soma_respostas == 5):\n",
        " print(\"Assassino\")"
      ],
      "execution_count": 96,
      "outputs": [
        {
          "output_type": "stream",
          "text": [
            "Telefonou para a vítima? 1/Sim ou 0/Não: 1\n",
            "Esteve no local do crime? 1/Sim ou 0/Não: 0\n",
            "Mora perto da vítima? 1/Sim ou 0/Não: 1\n",
            "Devia para a vítima? 1/Sim ou 0/Não: 0\n",
            "Já trabalhou com a vítima? 1/Sim ou 0/Não: 1\n",
            "Cúmplice\n"
          ],
          "name": "stdout"
        }
      ]
    },
    {
      "cell_type": "markdown",
      "metadata": {
        "id": "FTK9nE4pdB1D"
      },
      "source": [
        "3 - A lista abaixo possui nomes de alunos de uma classe. Crie um loop que imprima '{nome} é aluno da classe'\n"
      ]
    },
    {
      "cell_type": "code",
      "metadata": {
        "id": "nW4SbDxTmx4t"
      },
      "source": [
        "lista = ['Maria','João','Marcelo','Jonas','Laura','Luana']"
      ],
      "execution_count": 72,
      "outputs": []
    },
    {
      "cell_type": "code",
      "metadata": {
        "id": "0sRr8MXCpbGP",
        "outputId": "df32af0f-bae2-4e0a-b4bd-5fdf0edcdafc",
        "colab": {
          "base_uri": "https://localhost:8080/",
          "height": 118
        }
      },
      "source": [
        "for i in lista:\n",
        "  print(f'{i} é aluno(a) da classe')"
      ],
      "execution_count": 73,
      "outputs": [
        {
          "output_type": "stream",
          "text": [
            "Maria é aluno(a) da classe\n",
            "João é aluno(a) da classe\n",
            "Marcelo é aluno(a) da classe\n",
            "Jonas é aluno(a) da classe\n",
            "Laura é aluno(a) da classe\n",
            "Luana é aluno(a) da classe\n"
          ],
          "name": "stdout"
        }
      ]
    },
    {
      "cell_type": "markdown",
      "metadata": {
        "id": "_HbJNv8MaG4g"
      },
      "source": [
        "4 - Utilizando-se da mesma lista trabalhada acima e a lista dada abaixo, que contem as idades dos alunos, realize um loop que faça a iteração com as duas listas printando \"{nome} tem {idade} anos\".\n",
        "Dica: utilize *zip*()"
      ]
    },
    {
      "cell_type": "code",
      "metadata": {
        "id": "LJDxmAbJeO9V"
      },
      "source": [
        "idade = [23,34,42,54,26,27]"
      ],
      "execution_count": 74,
      "outputs": []
    },
    {
      "cell_type": "code",
      "metadata": {
        "id": "Kq1Lc7Ukps-V",
        "outputId": "70cda947-f8c5-4406-e65b-d173c47ed2cd",
        "colab": {
          "base_uri": "https://localhost:8080/",
          "height": 118
        }
      },
      "source": [
        "for i in zip (lista,idade):\n",
        "  print(f\"{i[0]} tem {i[1]} anos\")"
      ],
      "execution_count": 76,
      "outputs": [
        {
          "output_type": "stream",
          "text": [
            "Maria tem 23 anos\n",
            "João tem 34 anos\n",
            "Marcelo tem 42 anos\n",
            "Jonas tem 54 anos\n",
            "Laura tem 26 anos\n",
            "Luana tem 27 anos\n"
          ],
          "name": "stdout"
        }
      ]
    },
    {
      "cell_type": "markdown",
      "metadata": {
        "id": "0tkhm6EUaG1u"
      },
      "source": [
        "5 - Transforme as duas listas anteriores em um dicionário cuja chave é o nome e o valor é a idade."
      ]
    },
    {
      "cell_type": "code",
      "metadata": {
        "id": "piJtqhSKsx-k"
      },
      "source": [
        "cadastro = {}\n",
        "for i in zip(lista,idade):\n",
        "  cadastro[i[0]]={}\n",
        "  cadastro[i[0]]['idade']= i[1]\n"
      ],
      "execution_count": 79,
      "outputs": []
    },
    {
      "cell_type": "code",
      "metadata": {
        "id": "dzjB_Euyzy_M",
        "outputId": "770b9fb4-f509-438c-877c-f0a386b5a5ce",
        "colab": {
          "base_uri": "https://localhost:8080/",
          "height": 118
        }
      },
      "source": [
        "cadastro"
      ],
      "execution_count": 80,
      "outputs": [
        {
          "output_type": "execute_result",
          "data": {
            "text/plain": [
              "{'Jonas': {'idade': 54},\n",
              " 'João': {'idade': 34},\n",
              " 'Laura': {'idade': 26},\n",
              " 'Luana': {'idade': 27},\n",
              " 'Marcelo': {'idade': 42},\n",
              " 'Maria': {'idade': 23}}"
            ]
          },
          "metadata": {
            "tags": []
          },
          "execution_count": 80
        }
      ]
    },
    {
      "cell_type": "code",
      "metadata": {
        "id": "KEaYrI1az38l",
        "outputId": "1ff80d62-94ef-4d65-ec5b-5c1d6148922e",
        "colab": {
          "base_uri": "https://localhost:8080/",
          "height": 34
        }
      },
      "source": [
        "cadastro['Marcelo']['idade']"
      ],
      "execution_count": 82,
      "outputs": [
        {
          "output_type": "execute_result",
          "data": {
            "text/plain": [
              "42"
            ]
          },
          "metadata": {
            "tags": []
          },
          "execution_count": 82
        }
      ]
    },
    {
      "cell_type": "markdown",
      "metadata": {
        "id": "Lm1tOKThnU42"
      },
      "source": [
        "Exercícios adaptados de Python Brasil"
      ]
    }
  ]
}